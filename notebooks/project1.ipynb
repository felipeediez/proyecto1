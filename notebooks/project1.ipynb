{
  "nbformat": 4,
  "nbformat_minor": 0,
  "metadata": {
    "colab": {
      "provenance": [],
      "authorship_tag": "ABX9TyNVLA4Z3wyH3r1GeE2DAUkT",
      "include_colab_link": true
    },
    "kernelspec": {
      "name": "python3",
      "display_name": "Python 3"
    },
    "language_info": {
      "name": "python"
    }
  },
  "cells": [
    {
      "cell_type": "markdown",
      "metadata": {
        "id": "view-in-github",
        "colab_type": "text"
      },
      "source": [
        "<a href=\"https://colab.research.google.com/github/felipeediez/proyecto1/blob/main/notebooks/project1.ipynb\" target=\"_parent\"><img src=\"https://colab.research.google.com/assets/colab-badge.svg\" alt=\"Open In Colab\"/></a>"
      ]
    },
    {
      "cell_type": "code",
      "execution_count": null,
      "metadata": {
        "id": "k1fUFWkpAjic"
      },
      "outputs": [],
      "source": [
        "!git clone https://github.com/felipeediez/proyecto1.git"
      ]
    },
    {
      "cell_type": "code",
      "source": [
        "%cd proyecto1\n",
        "%cd notebooks"
      ],
      "metadata": {
        "id": "_AcTS6P1BYFZ"
      },
      "execution_count": null,
      "outputs": []
    },
    {
      "cell_type": "code",
      "source": [
        "!pwd\n",
        "import re\n",
        "\n",
        "def extraer_año (text):\n",
        "    año = None\n",
        "    for line in text:\n",
        "        match = re.search('Popularity in (\\d{4})', line)\n",
        "        if match:\n",
        "            año = match.group (1)\n",
        "            break\n",
        "    return año\n",
        "\n",
        "\n",
        "def nombre_ranking (text):\n",
        "  nombres = []\n",
        "\n",
        "  for line in text:\n",
        "    match = re.search ('<td>(\\d+)</td><td>([\\w]+)</td><td>([\\w]+)</td>', line)\n",
        "    if match:\n",
        "      ranking = match.group (1)\n",
        "      nombre_niño = match.group (2)\n",
        "      nombre_niña = match.group (3)\n",
        "      nombres.append ((ranking, nombre_niño, nombre_niña))\n",
        "  return nombres\n",
        "\n",
        "\n",
        "def diccionario_ranking (text):\n",
        "  diccionario_nombres = []\n",
        "  for line in text:\n",
        "      match = re.search ('<td>(\\d+)</td><td>([\\w]+)</td><td>([\\w]+)</td>', line)\n",
        "      if match:\n",
        "            diccionario = {\n",
        "                \"Ranking\": match.group(1),\n",
        "                \"Masculino\": match.group(2),\n",
        "                \"Femenino\": match.group(3)\n",
        "            }\n",
        "            diccionario_nombres.append(diccionario)\n",
        "  return diccionario_nombres\n",
        "\n",
        "\n",
        "def nombres_ordenados (text):\n",
        "  nombres = []\n",
        "  for line in text:\n",
        "      match = re.search ('<td>(\\d+)</td><td>([\\w]+)</td><td>([\\w]+)</td>', line)\n",
        "      if match:\n",
        "            nombres.append(match.group (2))\n",
        "            nombres.append(match.group (3))\n",
        "  nombres.sort()\n",
        "  return nombres\n",
        "\n",
        "\n",
        "def lista_ranking_nombre (text):\n",
        "    datos = []\n",
        "    año = None\n",
        "\n",
        "    for line in text:\n",
        "        match_año = re.search ('Popularity in (\\d{4})', line)\n",
        "        if match_año:\n",
        "                año = match_año.group (1)\n",
        "        match_nombre = re.search ('<td>(\\d+)</td><td>([\\w]+)</td><td>([\\w]+)</td>', line)\n",
        "        if match_nombre:\n",
        "                datos.append (f\"{match_nombre.group (2)} : {match_nombre.group (1)}\")\n",
        "                datos.append (f\"{match_nombre.group (3)} : {match_nombre.group (1)}\")\n",
        "    datos.sort ()\n",
        "    if año:\n",
        "      datos.insert (0, año)\n",
        "\n",
        "    return datos\n",
        "\n",
        "\n",
        "\n",
        "# Lista de archivos HTML\n",
        "archivos = [\n",
        "    \"../data/baby1990.html\",\n",
        "    \"../data/baby1992.html\",\n",
        "    \"../data/baby1994.html\",\n",
        "    \"../data/baby1996.html\",\n",
        "    \"../data/baby1998.html\",\n",
        "    \"../data/baby2000.html\",\n",
        "    \"../data/baby2002.html\",\n",
        "    \"../data/baby2004.html\",\n",
        "    \"../data/baby2006.html\",\n",
        "    \"../data/baby2008.html\",\n",
        "]\n",
        "\n",
        "\n",
        "# Itera a través de la lista de archivos\n",
        "for archivo in archivos:\n",
        "    with open (archivo) as file:\n",
        "        texto = file.readlines()\n",
        "\n",
        "        año = extraer_año(texto)    # Utilizando expresiones regulares debes encontrar el año, extraerlo y mostrarlo.\n",
        "        if año:\n",
        "            print(f\"\\nAño encontrado en {archivo}: {año}\\n\")\n",
        "\n",
        "        nombres_ranking = nombre_ranking (texto)\n",
        "        for ranking, nombre_niño, nombre_niña in nombres_ranking:\n",
        "            print(f\"Ranking: {ranking}, Niño: {nombre_niño}, Niña: {nombre_niña}\")    # Extrae los nombres de niños y de niñas con el correspondiente número que ocupan en el ranking y muéstralos.\n",
        "\n",
        "        diccionarios_nombres = diccionario_ranking(texto)  # Guarda los nombres (individuales) y su ranking en un diccionario e imprímelos\n",
        "        for diccionario in diccionarios_nombres:    # Se recorre la lista que contiene diccionarios\n",
        "            print(\"\")\n",
        "            for clave, valor in diccionario.items():   # Se recorren los diccionarios dentro de la lista\n",
        "                print(f\"{clave} : {valor}\")\n",
        "\n",
        "        nombres_alfabeticamente = nombres_ordenados (texto)\n",
        "        print (nombres_alfabeticamente)    # Crea una lista con los nombres ordenados alfabéticamente y muéstrala.\n",
        "\n",
        "        lista_nombre_ranking = lista_ranking_nombre (texto)    # Crea una lista con el siguiente formato y muéstrala: El primer elemento debe contener un string con el \"año\", Los siguientes elementos deben contener un string con el \"nombre y la posición del ranking\" ordenados en forma alfabética.\n",
        "        print (lista_nombre_ranking)\n",
        "\n",
        "\n"
      ],
      "metadata": {
        "id": "2uZUPMZSCAhd"
      },
      "execution_count": null,
      "outputs": []
    }
  ]
}